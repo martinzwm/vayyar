{
 "cells": [
  {
   "cell_type": "code",
   "execution_count": 24,
   "metadata": {},
   "outputs": [],
   "source": [
    "import os\n",
    "import numpy as np\n",
    "import json\n",
    "import scipy.io as sio\n",
    "import torch\n",
    "from sklearn.preprocessing import MultiLabelBinarizer\n",
    "import pickle"
   ]
  },
  {
   "cell_type": "markdown",
   "metadata": {},
   "source": [
    "Import data"
   ]
  },
  {
   "cell_type": "code",
   "execution_count": 25,
   "metadata": {},
   "outputs": [],
   "source": [
    "def importDataFromMatFiles(rootDir):\n",
    "    \"\"\"\n",
    "    Param: rootDir: The parent directory to the directories that start with Copy ....\n",
    "                    For example, in this case, rootDir = \"/Users/jameshe/Documents/radar_ura/FirstBatch\"\n",
    "    \"\"\"\n",
    "    xList = list()\n",
    "    yList = list()\n",
    "    mlb = MultiLabelBinarizer()\n",
    "    for f in os.scandir(rootDir):\n",
    "        if f.is_dir():\n",
    "            with open(os.path.join(f.path, \"test_data.json\")) as labelFile:\n",
    "                labels = json.load(labelFile)\n",
    "                occupancyLabel = labels[\"Occupied_Seats\"]\n",
    "            for file in os.scandir(os.path.join(f.path, \"SavedVars_RF_Data\")):\n",
    "                frame = sio.loadmat(file)\n",
    "                image = frame[\"Image\"]\n",
    "                mask = frame[\"Mask\"]\n",
    "                image[mask == False] = 0\n",
    "                xList.append(image)\n",
    "                yList.append(occupancyLabel)\n",
    "    yList = mlb.fit_transform(yList)\n",
    "    xList = np.array(xList)\n",
    "    xList = np.absolute(xList)\n",
    "    return (xList, yList)"
   ]
  },
  {
   "cell_type": "code",
   "execution_count": 26,
   "metadata": {},
   "outputs": [],
   "source": [
    "def saveData(data, path, fileName):\n",
    "    \"\"\"\n",
    "    open file mode w: write, if the file exist, erase it\n",
    "    open file mode b: open the file as a binary file\n",
    "    \"\"\"\n",
    "    filePath = os.path.join(path, fileName)\n",
    "    with open(filePath,'wb') as pickleFileHandle:\n",
    "        pickle.dump(data, pickleFileHandle)\n",
    "        pickleFileHandle.close()"
   ]
  },
  {
   "cell_type": "code",
   "execution_count": 27,
   "metadata": {},
   "outputs": [],
   "source": [
    "def loadData(path, fileName):\n",
    "    \"\"\"\n",
    "    open file mode b: open the file as a binary file\n",
    "    open file mode r: read file\n",
    "    \"\"\"\n",
    "    filePath = os.path.join(path, fileName)\n",
    "    with open(filePath, 'rb') as pickleFileHandle:\n",
    "        data = pickle.load(pickleFileHandle)\n",
    "        return data"
   ]
  },
  {
   "cell_type": "code",
   "execution_count": 28,
   "metadata": {},
   "outputs": [],
   "source": [
    "x, y = importDataFromMatFiles(\"/Users/jameshe/Documents/radar_ura/FirstBatch\")"
   ]
  },
  {
   "cell_type": "code",
   "execution_count": null,
   "metadata": {},
   "outputs": [],
   "source": []
  }
 ],
 "metadata": {
  "language_info": {
   "codemirror_mode": {
    "name": "ipython",
    "version": 3
   },
   "file_extension": ".py",
   "mimetype": "text/x-python",
   "name": "python",
   "nbconvert_exporter": "python",
   "pygments_lexer": "ipython3",
   "version": "3.8.3-final"
  },
  "orig_nbformat": 2,
  "kernelspec": {
   "name": "python38364bitvayyarradarconda6b1643d409fe49e8800faf9b4958cadf",
   "display_name": "Python 3.8.3 64-bit ('vayyar_radar': conda)"
  }
 },
 "nbformat": 4,
 "nbformat_minor": 2
}